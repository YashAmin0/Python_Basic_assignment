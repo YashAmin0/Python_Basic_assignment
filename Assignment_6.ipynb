{
 "cells": [
  {
   "cell_type": "markdown",
   "id": "5b624074",
   "metadata": {},
   "source": [
    "->1. What are escape characters, and how do you use them?\n",
    "\n",
    "Ans1\n",
    "\n",
    "An escape character is a backslash \\ followed by the character you want to insert.\n",
    "\n",
    "Example of escape characters:-       \n",
    "\\n\n",
    "\n",
    "--------"
   ]
  },
  {
   "cell_type": "markdown",
   "id": "4413a744",
   "metadata": {},
   "source": [
    "->2. What do the escape characters n and t stand for?\n",
    "\n",
    "Ans2\n",
    "\n",
    "\\n :- It is used for new line.      \n",
    "\\t :- It is used for giving space.\n",
    "\n",
    "------"
   ]
  },
  {
   "cell_type": "markdown",
   "id": "cb67f339",
   "metadata": {},
   "source": [
    "->3. What is the way to include backslash characters in a string?\n",
    "\n",
    "Ans3\n",
    "\n",
    "// :- Backslash character\n",
    "\n",
    "-----"
   ]
  },
  {
   "cell_type": "markdown",
   "id": "96491226",
   "metadata": {},
   "source": [
    "-> 4. The string \"Howl's Moving Castle\" is a correct value. Why isn't the single quote character in the word Howl's not escaped a problem?\n",
    "\n",
    "Ans4\n",
    "\n",
    "The single quote character in the word Howl's not escaped a problem because it is used in double string."
   ]
  },
  {
   "cell_type": "markdown",
   "id": "8617b6f9",
   "metadata": {},
   "source": [
    "-> 5. How do you write a string of newlines if you don't want to use the n character?\n",
    "\n",
    "Ans5\n",
    "\n"
   ]
  },
  {
   "cell_type": "code",
   "execution_count": 1,
   "id": "938fdd8d",
   "metadata": {},
   "outputs": [
    {
     "name": "stdout",
     "output_type": "stream",
     "text": [
      "Hello\n",
      "World\n"
     ]
    }
   ],
   "source": [
    "print(\"Hello\")\n",
    "print(\"World\")"
   ]
  },
  {
   "cell_type": "markdown",
   "id": "07ad3655",
   "metadata": {},
   "source": [
    "-> 6.What are the values of the given expressions?\n",
    "'Hello, world!'[1]\n",
    "'Hello, world!'[0:5]\n",
    "'Hello, world!'[:5]\n",
    "'Hello, world!'[3:]\n",
    "\n",
    "Ans6\n",
    "\n",
    "'Hello, world!'[1] :- 'e'\n",
    "'Hello, world!'[0:5] :- 'Hello'\n",
    "'Hello, world!'[:5] :- 'Hello'\n",
    "'Hello, world!'[3:] :- 'lo, world!'\n",
    "\n",
    "-----"
   ]
  },
  {
   "cell_type": "markdown",
   "id": "84202067",
   "metadata": {},
   "source": [
    "-> 7. What are the values of the following expressions?\n",
    "'Hello'.upper()           \n",
    "'Hello'.upper().isupper()        \n",
    "'Hello'.upper().lower()            \n",
    "\n",
    "Ans7\n",
    "\n",
    "'Hello'.upper() :- \"HELLO\"           \n",
    "'Hello'.upper().isupper() :- True        \n",
    "'Hello'.upper().lower() :- 'hello'\n",
    "\n",
    "------"
   ]
  },
  {
   "cell_type": "markdown",
   "id": "5973a5fe",
   "metadata": {},
   "source": [
    "-> 8.What are the values of the following expressions?\n",
    "\n",
    "'Remember, remember, the fifth of July.'.split()        \n",
    "'-'.join('There can only one.'.split())           \n",
    "\n",
    "Ans8 \n",
    "\n",
    "'Remember, remember, the fifth of July.'.split() :- ['Remember,', 'remember,', 'the', 'fifth', 'of', 'July.']\n",
    "\n",
    "'-'.join('There can only one.'.split()) :-  'There-can-only-one.'"
   ]
  },
  {
   "cell_type": "markdown",
   "id": "5d62c519",
   "metadata": {},
   "source": [
    "-> 9. What are the methods for right-justifying, left-justifying, and centering a string?\n",
    "\n",
    "Ans9 \n",
    "\n",
    "right-justifying :- str.rjust()                   \n",
    "left-justifying :- str.ljust()                     \n",
    "centering :- str.center()           \n",
    "\n",
    "-----"
   ]
  },
  {
   "cell_type": "markdown",
   "id": "3489f38a",
   "metadata": {},
   "source": [
    "-> 10. What is the best way to remove whitespace characters from the start or end? \n",
    "\n",
    "Ans10\n",
    "\n",
    "str.strip"
   ]
  }
 ],
 "metadata": {
  "kernelspec": {
   "display_name": "Python 3 (ipykernel)",
   "language": "python",
   "name": "python3"
  },
  "language_info": {
   "codemirror_mode": {
    "name": "ipython",
    "version": 3
   },
   "file_extension": ".py",
   "mimetype": "text/x-python",
   "name": "python",
   "nbconvert_exporter": "python",
   "pygments_lexer": "ipython3",
   "version": "3.9.10"
  },
  "varInspector": {
   "cols": {
    "lenName": 16,
    "lenType": 16,
    "lenVar": 40
   },
   "kernels_config": {
    "python": {
     "delete_cmd_postfix": "",
     "delete_cmd_prefix": "del ",
     "library": "var_list.py",
     "varRefreshCmd": "print(var_dic_list())"
    },
    "r": {
     "delete_cmd_postfix": ") ",
     "delete_cmd_prefix": "rm(",
     "library": "var_list.r",
     "varRefreshCmd": "cat(var_dic_list()) "
    }
   },
   "types_to_exclude": [
    "module",
    "function",
    "builtin_function_or_method",
    "instance",
    "_Feature"
   ],
   "window_display": false
  }
 },
 "nbformat": 4,
 "nbformat_minor": 5
}
