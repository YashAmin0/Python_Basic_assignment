{
 "cells": [
  {
   "cell_type": "markdown",
   "id": "af32fff4",
   "metadata": {},
   "source": [
    "1. In the below elements which of them are values or an expression? eg:- values can be integer or string and expressions will be mathematical operators.\n",
    "\n",
    "Ans1 \n",
    "\n",
    "-> 'hello' = value,     \n",
    "-> -87.8  = value,       \n",
    "-> - = expression,   \n",
    "-> / = expression,     \n",
    "-> + = expression,         \n",
    "-> 6 = value        \n"
   ]
  },
  {
   "cell_type": "markdown",
   "id": "aaaaa2ad",
   "metadata": {},
   "source": [
    "2. What is the difference between string and variable?\n",
    "\n",
    "Ans2\n",
    "\n",
    "The variable is the name that is used to refer the memory location whereas string is datatype which is written as single or double quote.\n",
    "\n",
    "example of variable :- a = 10    \n",
    "example of string :- b = 'String1'\n"
   ]
  },
  {
   "cell_type": "markdown",
   "id": "d6189eec",
   "metadata": {},
   "source": [
    "3. Describe three different data types.\n",
    "\n",
    "Ans3\n",
    "\n",
    "-> String :- Collection of characters  \n",
    "->int :- Collection of numeric values   \n",
    "->Float :- Collection of Decimal values\n"
   ]
  },
  {
   "cell_type": "markdown",
   "id": "ee75d90a",
   "metadata": {},
   "source": [
    "4. What is an expression made up of? What do all expressions do?\n",
    "\n",
    "Ans4\n",
    "\n",
    "Expression is made up of operators and operand.The expression produce some other value by using operators and operand.\n",
    "\n",
    "Example of expression:- \n",
    "\n",
    "x = 10     \n",
    "y = 20     \n",
    "z = x+y     \n",
    "print(z)       "
   ]
  },
  {
   "cell_type": "markdown",
   "id": "9da399cd",
   "metadata": {},
   "source": [
    "5. This assignment statements, like spam = 10. What is the difference between an expression and a statement?\n",
    "\n",
    "Ans5  \n",
    "\n",
    "Statement is the instruction that python interpreter execute whereas the expression is the combition of operators, values and calls  a function.\n",
    "\n",
    "Example of statement:-     \n",
    "x = 10             \n",
    "\n",
    "Example of expression:-         \n",
    "x = 10     \n",
    "y = 20     \n",
    "z = x+y     \n",
    "print(z)"
   ]
  },
  {
   "cell_type": "markdown",
   "id": "72a3067e",
   "metadata": {},
   "source": [
    "6. After running the following code, what does the variable bacon contain?          \n",
    "bacon = 22         \n",
    "bacon + 1      \n",
    "\n",
    "Ans6 \n",
    "\n",
    "The variable bacon contain = 23"
   ]
  },
  {
   "cell_type": "markdown",
   "id": "415a976c",
   "metadata": {},
   "source": [
    "7. What should the values of the following two terms be?    \n",
    "'spam' + 'spamspam'           \n",
    "'spam' * 3              \n",
    "\n",
    "Ans7\n",
    "\n",
    "->spamspamspam      \n",
    "->spamspamspam"
   ]
  },
  {
   "cell_type": "markdown",
   "id": "f6ef8225",
   "metadata": {},
   "source": [
    "8. Why is eggs a valid variable name while 100 is invalid?\n",
    "\n",
    "Ans8\n",
    "\n",
    "The eggs is a valid variable name while 100 is invalid because according to rules of python, variable name always start with a letter or the underscore character."
   ]
  },
  {
   "cell_type": "markdown",
   "id": "bdb20f77",
   "metadata": {},
   "source": [
    "9. What three functions can be used to get the integer, floating-point number, or string version of a value?\n",
    "\n",
    "Ans9 \n",
    "\n",
    "The three functions can be used to get the integer, floating-point number, or string version of a value are int(), float() and str() respectively."
   ]
  },
  {
   "cell_type": "markdown",
   "id": "0f2462da",
   "metadata": {},
   "source": [
    "10. Why does this expression cause an error? How can you fix it?\n",
    "'I have eaten ' + 99 + ' burritos.'\n",
    "\n",
    "Ans10\n",
    "\n",
    "This expression cause an error because it can only concat the str to str, not int to str.So to fix this error we have to convert the int into str.\n",
    "\n",
    "fixed code:-         \n",
    "'I have eaten ' + '99' + ' burritos.'\n"
   ]
  }
 ],
 "metadata": {
  "kernelspec": {
   "display_name": "Python 3 (ipykernel)",
   "language": "python",
   "name": "python3"
  },
  "language_info": {
   "codemirror_mode": {
    "name": "ipython",
    "version": 3
   },
   "file_extension": ".py",
   "mimetype": "text/x-python",
   "name": "python",
   "nbconvert_exporter": "python",
   "pygments_lexer": "ipython3",
   "version": "3.9.10"
  },
  "varInspector": {
   "cols": {
    "lenName": 16,
    "lenType": 16,
    "lenVar": 40
   },
   "kernels_config": {
    "python": {
     "delete_cmd_postfix": "",
     "delete_cmd_prefix": "del ",
     "library": "var_list.py",
     "varRefreshCmd": "print(var_dic_list())"
    },
    "r": {
     "delete_cmd_postfix": ") ",
     "delete_cmd_prefix": "rm(",
     "library": "var_list.r",
     "varRefreshCmd": "cat(var_dic_list()) "
    }
   },
   "position": {
    "height": "144.383px",
    "left": "244.8px",
    "right": "20px",
    "top": "120px",
    "width": "350px"
   },
   "types_to_exclude": [
    "module",
    "function",
    "builtin_function_or_method",
    "instance",
    "_Feature"
   ],
   "window_display": false
  }
 },
 "nbformat": 4,
 "nbformat_minor": 5
}
