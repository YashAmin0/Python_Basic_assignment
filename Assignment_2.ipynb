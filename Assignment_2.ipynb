{
 "cells": [
  {
   "cell_type": "markdown",
   "id": "7424f426",
   "metadata": {},
   "source": [
    "->What are the two values of the Boolean data type? How do you write them?\n",
    "\n",
    "Ans1\n",
    "\n",
    "The two values of the Boolean data type are :- True And False. True and False with T and F capital and the rest with lower case.\n",
    "\n",
    "-------"
   ]
  },
  {
   "cell_type": "markdown",
   "id": "79b3bc3d",
   "metadata": {},
   "source": [
    "-> What are the three different types of Boolean operators?\n",
    "\n",
    "Ans2\n",
    "\n",
    "The three different types of Boolean operators are and ,or and not.\n",
    "\n",
    "Example of and operator:-     \n",
    "x > 4 and x < 10\n",
    "\n",
    "Example of or operator:-     \n",
    "x > 4 or x < 10\n",
    "\n",
    "Example of not operator:-     \n",
    "not(x > 4 and x < 10)\n",
    "\n",
    "---\n"
   ]
  },
  {
   "cell_type": "markdown",
   "id": "79d72c59",
   "metadata": {},
   "source": [
    "-> Make a list of each Boolean operator's truth tables (i.e. every possible combination of Boolean values for the operator and what it evaluate ).\n",
    "\n",
    "Ans3\n",
    "\n",
    "[[1,1,1],[1,1,0],[1,0,1],[1,0,0],[0,1,1],[0,1,0],[0,0,1],[0,0,0]]\n",
    "\n",
    "-------"
   ]
  },
  {
   "cell_type": "markdown",
   "id": "15690fa1",
   "metadata": {},
   "source": [
    "-> 4. What are the values of the following expressions?\n",
    "\n",
    "(5 > 4) and (3 == 5)        \n",
    "not (5 > 4)           \n",
    "(5 > 4) or (3 == 5)        \n",
    "not ((5 > 4) or (3 == 5))          \n",
    "(True and True) and (True == False)          \n",
    "(not False) or (not True)           \n",
    "\n",
    "Ans4\n",
    "\n",
    "(5 > 4) and (3 == 5) :- False        \n",
    "not (5 > 4) :- False       \n",
    "(5 > 4) or (3 == 5) :- True             \n",
    "not ((5 > 4) or (3 == 5)) :- False         \n",
    "(True and True) and (True == False) :- False    \n",
    "(not False) or (not True) :- True          \n",
    "\n",
    "-------"
   ]
  },
  {
   "cell_type": "markdown",
   "id": "ac1235b0",
   "metadata": {},
   "source": [
    "->5. What are the six comparison operators?\n",
    "\n",
    "Ans5\n",
    "\n",
    "-> == :- equal           \n",
    "-> != :- not equal       \n",
    "-> < :- Less than             \n",
    "-> > :- Greater than                \n",
    "-> >= :- Greater than or equal to             \n",
    "-> <= :- Less than or equal to    \n",
    "\n",
    "-------"
   ]
  },
  {
   "cell_type": "markdown",
   "id": "f2afca53",
   "metadata": {},
   "source": [
    "-> 6.How do you tell the difference between the equal to and assignment operators?Describe a condition and when you would use one.\n",
    "\n",
    "Ans6 \n",
    "\n",
    "The assignment operator are mainly used to assign the values, on the other hand the equal to operator is a comparison operator which is used to compare the values.\n",
    "\n",
    "example:-  \n",
    "\n",
    "x = 10 #assignment operator               \n",
    "if x==10:#equal to                \n",
    "    print(\"true\")\n",
    "    \n",
    "-------"
   ]
  },
  {
   "cell_type": "markdown",
   "id": "ba924a00",
   "metadata": {},
   "source": [
    "-> 7.Identify the three blocks in this code:"
   ]
  },
  {
   "cell_type": "code",
   "execution_count": 1,
   "id": "8611cc31",
   "metadata": {},
   "outputs": [
    {
     "name": "stdout",
     "output_type": "stream",
     "text": [
      "spam\n"
     ]
    }
   ],
   "source": [
    "spam = 0                 \n",
    "if spam == 10:#block 1                \n",
    "    print('eggs')               \n",
    "    if spam > 5:#block 2                  \n",
    "        print('bacon')                      \n",
    "    else:#block 3                  \n",
    "        print('ham')                      \n",
    "    print('spam')                    \n",
    "print('spam')                     \n"
   ]
  },
  {
   "cell_type": "markdown",
   "id": "c79e5a79",
   "metadata": {},
   "source": [
    "-> 8.Write code that prints Hello if 1 is stored in spam, prints Howdy if 2 is stored in spam, and prints Greetings! if anything else is stored in spam.\n",
    "\n",
    "Ans8\n"
   ]
  },
  {
   "cell_type": "code",
   "execution_count": 2,
   "id": "cd3f4fe9",
   "metadata": {},
   "outputs": [
    {
     "name": "stdout",
     "output_type": "stream",
     "text": [
      "Hello\n"
     ]
    }
   ],
   "source": [
    "spam = 1\n",
    "if spam ==1:\n",
    "    print(\"Hello\")\n",
    "elif spam ==2:\n",
    "    print(\"Howdy\")\n",
    "else:\n",
    "    print(\"Greetings!\")"
   ]
  },
  {
   "cell_type": "markdown",
   "id": "ed463562",
   "metadata": {},
   "source": [
    "-> 9.If your programme is stuck in an endless loop, what keys you’ll press?\n",
    "\n",
    "Ans9\n",
    "\n",
    "Ctrl + C\n",
    "\n",
    "-------"
   ]
  },
  {
   "cell_type": "markdown",
   "id": "363f4894",
   "metadata": {},
   "source": [
    "-> 10.How can you tell the difference between break and continue?\n",
    "\n",
    "Ans10\n",
    "\n",
    "The break statement eliminate the loop while continue statement just skip the current iteration. \n",
    "\n",
    "-------"
   ]
  },
  {
   "cell_type": "markdown",
   "id": "490f1e27",
   "metadata": {},
   "source": [
    "-> 11.In a for loop, what is the difference between range(10), range(0, 10), and range(0, 10, 1)\n",
    "\n",
    "Ans11\n",
    "\n",
    "There is no such difference between as there output are same.\n",
    "\n",
    "-------"
   ]
  },
  {
   "cell_type": "markdown",
   "id": "52c34170",
   "metadata": {},
   "source": [
    "-> 12.Write a short program that prints the numbers 1 to 10 using a for loop. Then write an equivalent program that prints the numbers 1 to 10 using a while loop.\n",
    "\n",
    "Ans12\n"
   ]
  },
  {
   "cell_type": "code",
   "execution_count": 3,
   "id": "8308b2dd",
   "metadata": {},
   "outputs": [
    {
     "name": "stdout",
     "output_type": "stream",
     "text": [
      "For loop:- \n",
      "1\n",
      "2\n",
      "3\n",
      "4\n",
      "5\n",
      "6\n",
      "7\n",
      "8\n",
      "9\n",
      "10\n",
      "While loop:- \n",
      "1\n",
      "2\n",
      "3\n",
      "4\n",
      "5\n",
      "6\n",
      "7\n",
      "8\n",
      "9\n",
      "10\n"
     ]
    }
   ],
   "source": [
    "print(\"For loop:- \")\n",
    "for i in range(1,11):\n",
    "    print(i)\n",
    "print(\"While loop:- \")\n",
    "i = 1\n",
    "while i<11:\n",
    "    print(i)\n",
    "    i+=1"
   ]
  },
  {
   "cell_type": "markdown",
   "id": "df53a58e",
   "metadata": {},
   "source": [
    "-> 13. If you had a function named bacon() inside a module named spam, how would you call it after importing spam?\n",
    "\n",
    "Ans13\n",
    "\n",
    "There are 2 ways to import the  function from another  module:- \n",
    "\n",
    "->1.import spam            \n",
    "    spam.bacon                    \n",
    "->2. from .spam import bacon\n",
    "\n",
    "-----"
   ]
  }
 ],
 "metadata": {
  "kernelspec": {
   "display_name": "Python 3 (ipykernel)",
   "language": "python",
   "name": "python3"
  },
  "language_info": {
   "codemirror_mode": {
    "name": "ipython",
    "version": 3
   },
   "file_extension": ".py",
   "mimetype": "text/x-python",
   "name": "python",
   "nbconvert_exporter": "python",
   "pygments_lexer": "ipython3",
   "version": "3.9.10"
  },
  "varInspector": {
   "cols": {
    "lenName": 16,
    "lenType": 16,
    "lenVar": 40
   },
   "kernels_config": {
    "python": {
     "delete_cmd_postfix": "",
     "delete_cmd_prefix": "del ",
     "library": "var_list.py",
     "varRefreshCmd": "print(var_dic_list())"
    },
    "r": {
     "delete_cmd_postfix": ") ",
     "delete_cmd_prefix": "rm(",
     "library": "var_list.r",
     "varRefreshCmd": "cat(var_dic_list()) "
    }
   },
   "types_to_exclude": [
    "module",
    "function",
    "builtin_function_or_method",
    "instance",
    "_Feature"
   ],
   "window_display": false
  }
 },
 "nbformat": 4,
 "nbformat_minor": 5
}
