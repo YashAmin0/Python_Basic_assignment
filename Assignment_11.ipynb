{
 "cells": [
  {
   "cell_type": "markdown",
   "id": "02c71c05",
   "metadata": {},
   "source": [
    "-> 1. Create an assert statement that throws an AssertionError if the variable spam is a negative integer.\n",
    "\n",
    "Ans1\n"
   ]
  },
  {
   "cell_type": "code",
   "execution_count": 1,
   "id": "0b605316",
   "metadata": {},
   "outputs": [
    {
     "name": "stdout",
     "output_type": "stream",
     "text": [
      "Enter any number :- -21\n"
     ]
    },
    {
     "ename": "AssertionError",
     "evalue": "Only positive number allowed",
     "output_type": "error",
     "traceback": [
      "\u001b[1;31m---------------------------------------------------------------------------\u001b[0m",
      "\u001b[1;31mAssertionError\u001b[0m                            Traceback (most recent call last)",
      "Input \u001b[1;32mIn [1]\u001b[0m, in \u001b[0;36m<module>\u001b[1;34m\u001b[0m\n\u001b[0;32m      1\u001b[0m x \u001b[38;5;241m=\u001b[39m \u001b[38;5;28mint\u001b[39m(\u001b[38;5;28minput\u001b[39m(\u001b[38;5;124m\"\u001b[39m\u001b[38;5;124mEnter any number :- \u001b[39m\u001b[38;5;124m\"\u001b[39m))\n\u001b[1;32m----> 2\u001b[0m \u001b[38;5;28;01massert\u001b[39;00m x \u001b[38;5;241m>\u001b[39m \u001b[38;5;241m0\u001b[39m,\u001b[38;5;124m'\u001b[39m\u001b[38;5;124mOnly positive number allowed\u001b[39m\u001b[38;5;124m'\u001b[39m\n\u001b[0;32m      3\u001b[0m \u001b[38;5;28mprint\u001b[39m(\u001b[38;5;124m'\u001b[39m\u001b[38;5;124mx is a positive number.\u001b[39m\u001b[38;5;124m'\u001b[39m)\n",
      "\u001b[1;31mAssertionError\u001b[0m: Only positive number allowed"
     ]
    }
   ],
   "source": [
    "x = int(input(\"Enter any number :- \"))\n",
    "assert x > 0,'Only positive number allowed'\n",
    "print('x is a positive number.')"
   ]
  },
  {
   "cell_type": "markdown",
   "id": "2e01bbff",
   "metadata": {},
   "source": [
    "-> 2. Write an assert statement that triggers an AssertionError if the variables eggs and bacon contain strings that are the same as each other, even if their cases are different (that is, 'hello' and 'hello' are considered the same, and 'goodbye' and 'GOODbye' are also considered the same).\n",
    "\n",
    "Ans2\n"
   ]
  },
  {
   "cell_type": "code",
   "execution_count": 2,
   "id": "ae0c01c6",
   "metadata": {},
   "outputs": [
    {
     "name": "stdout",
     "output_type": "stream",
     "text": [
      "Enter any string :- Yash\n",
      "Enter any string :- yash\n"
     ]
    },
    {
     "ename": "AssertionError",
     "evalue": "eggs/bacon should not be the same!",
     "output_type": "error",
     "traceback": [
      "\u001b[1;31m---------------------------------------------------------------------------\u001b[0m",
      "\u001b[1;31mAssertionError\u001b[0m                            Traceback (most recent call last)",
      "Input \u001b[1;32mIn [2]\u001b[0m, in \u001b[0;36m<module>\u001b[1;34m\u001b[0m\n\u001b[0;32m      1\u001b[0m eggs \u001b[38;5;241m=\u001b[39m \u001b[38;5;28minput\u001b[39m(\u001b[38;5;124m\"\u001b[39m\u001b[38;5;124mEnter any string :- \u001b[39m\u001b[38;5;124m\"\u001b[39m)\n\u001b[0;32m      2\u001b[0m bacon \u001b[38;5;241m=\u001b[39m \u001b[38;5;28minput\u001b[39m(\u001b[38;5;124m\"\u001b[39m\u001b[38;5;124mEnter any string :- \u001b[39m\u001b[38;5;124m\"\u001b[39m)\n\u001b[1;32m----> 5\u001b[0m \u001b[38;5;28;01massert\u001b[39;00m eggs\u001b[38;5;241m.\u001b[39mlower() \u001b[38;5;241m!=\u001b[39m bacon\u001b[38;5;241m.\u001b[39mlower(), \u001b[38;5;124m'\u001b[39m\u001b[38;5;124meggs/bacon should not be the same!\u001b[39m\u001b[38;5;124m'\u001b[39m\n",
      "\u001b[1;31mAssertionError\u001b[0m: eggs/bacon should not be the same!"
     ]
    }
   ],
   "source": [
    "eggs = input(\"Enter any string :- \")\n",
    "bacon = input(\"Enter any string :- \")\n",
    "\n",
    "\n",
    "assert eggs.lower() != bacon.lower(), 'eggs/bacon should not be the same!'"
   ]
  },
  {
   "cell_type": "markdown",
   "id": "49c30357",
   "metadata": {},
   "source": [
    "-> 3. Create an assert statement that throws an AssertionError every time.\n",
    "\n",
    "Ans3\n"
   ]
  },
  {
   "cell_type": "code",
   "execution_count": 3,
   "id": "fe8ea129",
   "metadata": {},
   "outputs": [
    {
     "ename": "AssertionError",
     "evalue": "This assertion always triggers.",
     "output_type": "error",
     "traceback": [
      "\u001b[1;31m---------------------------------------------------------------------------\u001b[0m",
      "\u001b[1;31mAssertionError\u001b[0m                            Traceback (most recent call last)",
      "Input \u001b[1;32mIn [3]\u001b[0m, in \u001b[0;36m<module>\u001b[1;34m\u001b[0m\n\u001b[1;32m----> 1\u001b[0m \u001b[38;5;28;01massert\u001b[39;00m \u001b[38;5;28;01mFalse\u001b[39;00m, \u001b[38;5;124m'\u001b[39m\u001b[38;5;124mThis assertion always triggers.\u001b[39m\u001b[38;5;124m'\u001b[39m\n",
      "\u001b[1;31mAssertionError\u001b[0m: This assertion always triggers."
     ]
    }
   ],
   "source": [
    "assert False, 'This assertion always triggers.'"
   ]
  },
  {
   "cell_type": "markdown",
   "id": "299da08d",
   "metadata": {},
   "source": [
    "-> 4. What are the two lines that must be present in your software in order to call logging.debug()?\n",
    "\n",
    "Ans4\n",
    "\n",
    "We have to first import logging library and then we have to call basicConfig function for specifying the level.\n"
   ]
  },
  {
   "cell_type": "code",
   "execution_count": 15,
   "id": "ea82f368",
   "metadata": {},
   "outputs": [],
   "source": [
    "import logging\n",
    "logging.basicConfig(filename='D:\\FSDS_Assignments\\\\test2.log',level = logging.INFO,filemode ='r+')\n",
    "logging.debug(\"this is for debugging\")"
   ]
  },
  {
   "cell_type": "markdown",
   "id": "04e665d0",
   "metadata": {},
   "source": [
    "-> 5. What are the two lines that your program must have in order to have logging.debug() send a logging message to a file named programLog.txt?\n",
    "\n",
    "Ans5\n",
    "\n",
    "import logging                          \n",
    "logging.basicConfig(filename = 'programLog.txt',level=logging.DEBUG, format=' %(asctime)s - %(levelname)s - %(message)s')          \n",
    "\n",
    "----\n",
    "\n",
    "-> 6. What are the five levels of logging?\n",
    "\n",
    "Ans6\n",
    "\n",
    "-> DEBUG :- These are used to give Detailed information.  \n",
    "\n",
    "-> INFO :- These are used to confirm that things are working as expected.\n",
    "\n",
    "-> WARNING :- These are used an indication that something unexpected happened.\n",
    "\n",
    "-> ERROR :- This tells that software has not been able to perform some function.\n",
    "\n",
    "-> CRITICAL :- This indicate that the program itself may be unable to continue running.\n",
    "\n",
    "-------\n",
    "\n",
    "-> 7. What line of code would you add to your software to disable all logging messages?\n",
    "\n",
    "Ans7\n",
    "\n",
    "logging.disable = True\n",
    "\n",
    "---\n",
    "\n",
    "-> 8.Why is using logging messages better than using print() to display the same message?\n",
    "\n",
    "Ans8\n",
    "\n",
    "Logging has different levels of severity that allows you to display log messages while print statement does not give that flexibility.\n",
    "\n",
    "---\n",
    "\n",
    "-> 9. What are the differences between the Step Over, Step In, and Step Out buttons in the debugger?\n",
    "\n",
    "Ans9\n",
    "\n",
    "Step Over buttons :- The line contains a function the function will be executed and the result returned without debugging each line\n",
    "\n",
    "Step In buttons :- If the line does not contain a function it behaves the same as “step over” but if it does the debugger will enter the called function and continue line-by-line debugging there.\n",
    "\n",
    "Step Out buttons :- Returns to the line where the current function was called.\n",
    "\n",
    "----\n",
    "\n",
    "-> 10.After you click Continue, when will the debugger stop ?\n",
    "\n",
    "Ans10 \n",
    "\n",
    "The debugger stop when a breakpoint is encountered.\n",
    "\n",
    "---\n",
    "\n",
    "-> 11. What is the concept of a breakpoint?\n",
    "\n",
    "Ans11 \n",
    "\n",
    "A breakpoint is a point in the program where the code will stop executing.\n",
    "\n",
    "--------"
   ]
  }
 ],
 "metadata": {
  "kernelspec": {
   "display_name": "Python 3 (ipykernel)",
   "language": "python",
   "name": "python3"
  },
  "language_info": {
   "codemirror_mode": {
    "name": "ipython",
    "version": 3
   },
   "file_extension": ".py",
   "mimetype": "text/x-python",
   "name": "python",
   "nbconvert_exporter": "python",
   "pygments_lexer": "ipython3",
   "version": "3.9.10"
  },
  "varInspector": {
   "cols": {
    "lenName": 16,
    "lenType": 16,
    "lenVar": 40
   },
   "kernels_config": {
    "python": {
     "delete_cmd_postfix": "",
     "delete_cmd_prefix": "del ",
     "library": "var_list.py",
     "varRefreshCmd": "print(var_dic_list())"
    },
    "r": {
     "delete_cmd_postfix": ") ",
     "delete_cmd_prefix": "rm(",
     "library": "var_list.r",
     "varRefreshCmd": "cat(var_dic_list()) "
    }
   },
   "types_to_exclude": [
    "module",
    "function",
    "builtin_function_or_method",
    "instance",
    "_Feature"
   ],
   "window_display": false
  }
 },
 "nbformat": 4,
 "nbformat_minor": 5
}
