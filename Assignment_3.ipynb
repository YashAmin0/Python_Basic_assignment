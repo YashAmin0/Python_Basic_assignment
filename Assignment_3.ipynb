{
 "cells": [
  {
   "cell_type": "markdown",
   "id": "e214c672",
   "metadata": {},
   "source": [
    "-> 1. Why are functions advantageous to have in your programs?\n",
    "\n",
    "Ans1\n",
    "\n",
    "Some advantages of functions are :-\n",
    "->Reuseabilty of code.\n",
    "->Information hiding.\n",
    "->Divide the wholoe code into small parts, so we get the clearity in code.\n",
    "\n",
    "----"
   ]
  },
  {
   "cell_type": "markdown",
   "id": "b496b921",
   "metadata": {},
   "source": [
    "->2.When does the code in a function run: when it's specified or when it's called?\n",
    "\n",
    "Ans2\n",
    "\n",
    "The code of function run when it is called by the user.\n",
    "\n",
    "---"
   ]
  },
  {
   "cell_type": "markdown",
   "id": "72fe5c60",
   "metadata": {},
   "source": [
    "->3.What statement creates a function?\n",
    "\n",
    "Ans3\n",
    "\n",
    "The statement that creates a function is def.      \n",
    "def func()\n",
    "\n",
    "----"
   ]
  },
  {
   "cell_type": "markdown",
   "id": "4515dfc9",
   "metadata": {},
   "source": [
    "-> 4.What is the difference between a function and a function call?\n",
    "\n",
    "Ans4\n",
    "\n",
    "The function is the block of code that will run when the function is called whereas function call will make function code run.\n",
    "\n",
    "---"
   ]
  },
  {
   "cell_type": "markdown",
   "id": "bccfd142",
   "metadata": {},
   "source": [
    "-> 5.How many global scopes are there in a Python program? How many local scopes?\n",
    "\n",
    "Ans5 \n",
    "\n",
    "There is only one global scope in python.Whereas there are many local scope in python.\n",
    "\n",
    "------"
   ]
  },
  {
   "cell_type": "markdown",
   "id": "6732f90e",
   "metadata": {},
   "source": [
    "-> 6.What happens to variables in a local scope when the function call returns?\n",
    "\n",
    "Ans6\n",
    "\n",
    "The  local scope will destroyed when the function call returns or it will used next time function is called.\n",
    "\n",
    "----"
   ]
  },
  {
   "cell_type": "markdown",
   "id": "e69d620e",
   "metadata": {},
   "source": [
    "-> 7.What is the concept of a return value? Is it possible to have a return value in an expression?\n",
    "\n",
    "Ans7 \n",
    "\n",
    "The return keyword send a value back to the main program. Yes it is possible to have a return value in an expression.\n"
   ]
  },
  {
   "cell_type": "code",
   "execution_count": 1,
   "id": "6f260727",
   "metadata": {},
   "outputs": [
    {
     "name": "stdout",
     "output_type": "stream",
     "text": [
      "9\n"
     ]
    }
   ],
   "source": [
    "def add():\n",
    "    return 5+4\n",
    "print(add())"
   ]
  },
  {
   "cell_type": "markdown",
   "id": "96332dcf",
   "metadata": {},
   "source": [
    "-> 8.If a function does not have a return statement, what is the return value of a call to that function?\n",
    "\n",
    "Ans8\n",
    "\n",
    "It just return the None value.\n",
    "\n",
    "-----"
   ]
  },
  {
   "cell_type": "markdown",
   "id": "7597a030",
   "metadata": {},
   "source": [
    "-> 9.How do you make a function variable refer to the global variable?\n",
    "\n",
    "Ans9\n",
    "\n",
    "We can make a function variable refer to the global variable through 'global' keyword.\n",
    "\n",
    "Example of global:- \n"
   ]
  },
  {
   "cell_type": "code",
   "execution_count": 2,
   "id": "ec3a77c1",
   "metadata": {},
   "outputs": [
    {
     "name": "stdout",
     "output_type": "stream",
     "text": [
      "10\n"
     ]
    }
   ],
   "source": [
    "x = 10\n",
    "def func():\n",
    "    global x\n",
    "func()\n",
    "print(x)"
   ]
  },
  {
   "cell_type": "markdown",
   "id": "10c0ca70",
   "metadata": {},
   "source": [
    "-> 10.What is the data type of None?\n",
    "\n",
    "Ans10\n",
    "\n",
    "The datatype of None is NoneType.\n"
   ]
  },
  {
   "cell_type": "code",
   "execution_count": 4,
   "id": "42816143",
   "metadata": {},
   "outputs": [
    {
     "data": {
      "text/plain": [
       "NoneType"
      ]
     },
     "execution_count": 4,
     "metadata": {},
     "output_type": "execute_result"
    }
   ],
   "source": [
    "type(None)"
   ]
  },
  {
   "cell_type": "markdown",
   "id": "aaf798bd",
   "metadata": {},
   "source": [
    "-> 11. What does the sentence import areallyourpetsnamederic do?\n",
    "\n",
    "Ans11\n",
    "\n",
    "It will import areallyourpetsnamederic.\n",
    "\n",
    "------"
   ]
  },
  {
   "cell_type": "markdown",
   "id": "85f4f507",
   "metadata": {},
   "source": [
    "-> 12. If you had a bacon() feature in a spam module, what would you call it after importing spam?\n",
    "\n",
    "Ans12\n",
    "\n",
    "import spam              \n",
    "spam.bacon\n",
    "\n",
    "-------"
   ]
  },
  {
   "cell_type": "markdown",
   "id": "691a4c16",
   "metadata": {},
   "source": [
    "-> 13.What can you do to save a programme from crashing if it encounters an error?\n",
    "\n",
    "Ans13\n",
    "\n",
    "We can use Try...exception to save the program from crashing.\n",
    "\n",
    "---"
   ]
  },
  {
   "cell_type": "markdown",
   "id": "93a62c32",
   "metadata": {},
   "source": [
    "-> 14.What is the purpose of the try clause? What is the purpose of the except clause?\n",
    "\n",
    "Ans14\n",
    "\n",
    "->The try is used for testing a block of code for error.\n",
    "\n",
    "->The except is used to handle the error.\n",
    "\n",
    "----"
   ]
  },
  {
   "cell_type": "code",
   "execution_count": null,
   "id": "ad824142",
   "metadata": {},
   "outputs": [],
   "source": []
  }
 ],
 "metadata": {
  "kernelspec": {
   "display_name": "Python 3 (ipykernel)",
   "language": "python",
   "name": "python3"
  },
  "language_info": {
   "codemirror_mode": {
    "name": "ipython",
    "version": 3
   },
   "file_extension": ".py",
   "mimetype": "text/x-python",
   "name": "python",
   "nbconvert_exporter": "python",
   "pygments_lexer": "ipython3",
   "version": "3.9.10"
  },
  "varInspector": {
   "cols": {
    "lenName": 16,
    "lenType": 16,
    "lenVar": 40
   },
   "kernels_config": {
    "python": {
     "delete_cmd_postfix": "",
     "delete_cmd_prefix": "del ",
     "library": "var_list.py",
     "varRefreshCmd": "print(var_dic_list())"
    },
    "r": {
     "delete_cmd_postfix": ") ",
     "delete_cmd_prefix": "rm(",
     "library": "var_list.r",
     "varRefreshCmd": "cat(var_dic_list()) "
    }
   },
   "types_to_exclude": [
    "module",
    "function",
    "builtin_function_or_method",
    "instance",
    "_Feature"
   ],
   "window_display": false
  }
 },
 "nbformat": 4,
 "nbformat_minor": 5
}
