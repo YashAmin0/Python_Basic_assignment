{
 "cells": [
  {
   "cell_type": "markdown",
   "id": "04751cae",
   "metadata": {},
   "source": [
    "-> 1. To what does a relative path refer?\n",
    "\n",
    "Ans1\n",
    "\n",
    "Relative path refer to current working directory or from given directory.\n",
    "\n",
    "---\n",
    "\n",
    "-> 2. What does an absolute path start with your operating system?\n",
    "\n",
    "Ans2\n",
    "\n",
    "An absolute path start from root element. In windows based operating system, the absolute path is C:.\n",
    "\n",
    "----\n",
    "\n",
    "-> 3. What do the functions os.getcwd() and os.chdir() do?\n",
    "\n",
    "Ans3\n",
    "\n",
    "os.getcwd() :- Return the location of current working directory (CWD). \n",
    "\n",
    "os.chdir() :- Change the current directory to given path.\n",
    "\n",
    "----\n",
    "\n",
    "-> 4. What are the . and .. folders?\n",
    "\n",
    "Ans4\n",
    "\n",
    "The . signifies the current directory and the .. signifies the parent directory.\n",
    "\n",
    "---\n",
    "\n",
    "-> 5. In C:\\bacon\\eggs\\spam.txt, which part is the dir name, and which part is the base name?\n",
    "\n",
    "Ans5\n",
    "\n",
    "C:\\bacon\\eggs is the dir name.           \n",
    "\n",
    "spam.txt is the base name.\n",
    "\n",
    "----\n",
    "\n",
    "-> 6. What are the three “mode” arguments that can be passed to the open() function?\n",
    "\n",
    "Ans6\n",
    "\n",
    "r: Opens the file in read-only mode. \n",
    "\n",
    "w: Opens in write-only mode. \n",
    "\n",
    "a: Opens a file for appending new information to it. \n",
    "\n",
    "----\n",
    "\n",
    "-> 7. What happens if an existing file is opened in write mode?\n",
    "\n",
    "Ans7\n",
    "\n",
    "If an existing file is opened in write mode the it will overwrite the file.\n",
    "\n",
    "---\n",
    "\n",
    "-> 8. How do you tell the difference between read() and readlines()?\n",
    "\n",
    "Ans8\n",
    "\n",
    "Read() function read the whole file while readline() function read the lines from file.\n",
    "\n",
    "---\n",
    "\n",
    "-> 9. What data structure does a shelf value resemble?\n",
    "\n",
    "Ans9\n",
    "\n",
    "A shelf value resembles a dictionary value.\n",
    "\n",
    "--------\n"
   ]
  }
 ],
 "metadata": {
  "kernelspec": {
   "display_name": "Python 3 (ipykernel)",
   "language": "python",
   "name": "python3"
  },
  "language_info": {
   "codemirror_mode": {
    "name": "ipython",
    "version": 3
   },
   "file_extension": ".py",
   "mimetype": "text/x-python",
   "name": "python",
   "nbconvert_exporter": "python",
   "pygments_lexer": "ipython3",
   "version": "3.9.10"
  },
  "varInspector": {
   "cols": {
    "lenName": 16,
    "lenType": 16,
    "lenVar": 40
   },
   "kernels_config": {
    "python": {
     "delete_cmd_postfix": "",
     "delete_cmd_prefix": "del ",
     "library": "var_list.py",
     "varRefreshCmd": "print(var_dic_list())"
    },
    "r": {
     "delete_cmd_postfix": ") ",
     "delete_cmd_prefix": "rm(",
     "library": "var_list.r",
     "varRefreshCmd": "cat(var_dic_list()) "
    }
   },
   "types_to_exclude": [
    "module",
    "function",
    "builtin_function_or_method",
    "instance",
    "_Feature"
   ],
   "window_display": false
  }
 },
 "nbformat": 4,
 "nbformat_minor": 5
}
