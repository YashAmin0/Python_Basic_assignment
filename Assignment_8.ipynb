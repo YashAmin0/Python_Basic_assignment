{
 "cells": [
  {
   "cell_type": "markdown",
   "id": "2bdd7092",
   "metadata": {},
   "source": [
    "-> 1. Is the Python Standard Library included with PyInputPlus?\n",
    "\n",
    "Ans1\n",
    "\n",
    "No, PyInputPlus is not included in Python Standard Library.\n",
    "\n",
    "---\n",
    "\n",
    "-> 2. Why is PyInputPlus commonly imported with import pyinputplus as pypi?\n",
    "\n",
    "Ans2\n",
    "\n",
    "So that we can enter the short name when we call pyinputplus library.\n",
    "\n",
    "---\n",
    "\n",
    "-> 3. How do you distinguish between inputInt() and inputFloat()?\n",
    "\n",
    "Ans3\n",
    "\n",
    "inputInt() : Accepts an integer value.       \n",
    "\n",
    "inputFloat() : Accepts a floating-point numeric value.            \n",
    "\n",
    "---\n",
    "\n",
    "-> 4. Using PyInputPlus, how do you ensure that the user enters a whole number between 0 and 99?\n",
    "\n",
    "Ans4\n",
    "\n",
    "import PyInputPlus as pypi\n",
    "pypi.inputInt(min = 0, max = 99)\n",
    "\n",
    "----\n",
    "\n",
    "-> 5. What is transferred to the keyword arguments allowRegexes and blockRegexes?\n",
    "\n",
    "Ans5\n",
    "\n",
    "The allowRegexes and blockRegexes keyword arguments take a list of regular expression strings to determine what the PyInputPlus function will accept or reject as valid input.\n",
    "\n",
    "----\n",
    "\n",
    "-> 6. If a blank input is entered three times, what does inputStr(limit=3) do?\n",
    "\n",
    "Ans6\n",
    "\n",
    "The statement inputStr(limit=3) will throw two exceptions ValidationException and RetryLimitException.\n",
    "\n",
    "-----"
   ]
  },
  {
   "cell_type": "markdown",
   "id": "ec16f55f",
   "metadata": {},
   "source": [
    "-> 7. If blank input is entered three times, what does inputStr(limit=3, default='hello') do?\n",
    "\n",
    "Ans7\n",
    "\n",
    "It will print hello.\n",
    "\n",
    "--------"
   ]
  }
 ],
 "metadata": {
  "kernelspec": {
   "display_name": "Python 3 (ipykernel)",
   "language": "python",
   "name": "python3"
  },
  "language_info": {
   "codemirror_mode": {
    "name": "ipython",
    "version": 3
   },
   "file_extension": ".py",
   "mimetype": "text/x-python",
   "name": "python",
   "nbconvert_exporter": "python",
   "pygments_lexer": "ipython3",
   "version": "3.9.10"
  },
  "varInspector": {
   "cols": {
    "lenName": 16,
    "lenType": 16,
    "lenVar": 40
   },
   "kernels_config": {
    "python": {
     "delete_cmd_postfix": "",
     "delete_cmd_prefix": "del ",
     "library": "var_list.py",
     "varRefreshCmd": "print(var_dic_list())"
    },
    "r": {
     "delete_cmd_postfix": ") ",
     "delete_cmd_prefix": "rm(",
     "library": "var_list.r",
     "varRefreshCmd": "cat(var_dic_list()) "
    }
   },
   "types_to_exclude": [
    "module",
    "function",
    "builtin_function_or_method",
    "instance",
    "_Feature"
   ],
   "window_display": false
  }
 },
 "nbformat": 4,
 "nbformat_minor": 5
}
