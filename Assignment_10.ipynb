{
 "cells": [
  {
   "cell_type": "markdown",
   "id": "63ee6f1f",
   "metadata": {},
   "source": [
    "-> 1. How do you distinguish between shutil.copy() and shutil.copytree()?\n",
    "\n",
    "Ans1\n",
    "\n",
    "Shutil. copy() will copy a single file,while  shutil. copytree() will copy an entire folder and file contained in it.\n",
    "\n",
    "---\n",
    "\n",
    "-> 2. What function is used to rename files??\n",
    "\n",
    "Ans2\n",
    "\n",
    "os.rename() function is used to rename files.\n",
    "\n",
    "---\n",
    "\n",
    "-> 3. What is the difference between the delete functions in the send2trash and shutil modules?\n",
    "\n",
    "Ans3\n",
    "\n",
    "Send2trash functions will move a file or folder to the recycle bin, while shutil functions will permanently delete files and folders.\n",
    "\n",
    "---\n",
    "\n",
    "-> 4.ZipFile objects have a close() method just like File objects’ close() method. What ZipFile method is equivalent to File objects’ open() method?\n",
    "\n",
    "Ans4\n",
    "\n",
    "with ZipFile(file_name, 'r') as zip:\n",
    "    zip.printdir()\n",
    "    \n",
    "---\n",
    "\n",
    "-> 5. Create a programme that searches a folder tree for files with a certain file extension (such as .pdf or .jpg). Copy these files from whatever location they are in to a new folder.\n",
    "\n",
    "Ans5 \n"
   ]
  },
  {
   "cell_type": "code",
   "execution_count": 32,
   "id": "4a7d1400",
   "metadata": {},
   "outputs": [
    {
     "name": "stdout",
     "output_type": "stream",
     "text": [
      "Folder Name ➞ D:\\FSDS_Assignments\n",
      "\n",
      "Files ➞ ['Assignment_1.docx', 'Assignment_1.ipynb', 'Assignment_2.ipynb', 'Assignment_2.docx', 'Assignment_3.docx', 'Assignment_3.ipynb', 'Assignment_4.docx', 'Assignment_4.ipynb', 'Assignment_5.docx', 'Assignment_5.ipynb', 'Assignment_6.docx', 'Assignment_6.ipynb', 'Assignment_7.docx', 'Assignment_7.ipynb', 'Assignment_8.docx', 'Assignment_8.ipynb', 'Assignment_9.docx', 'Assignment_9.ipynb', 'Assignment_10.docx', '~$signment_10.docx', 'Assignment_10.ipynb']\n",
      "\n",
      "Folder Name ➞ D:\\FSDS_Assignments\\.ipynb_checkpoints\n",
      "\n",
      "Files ➞ ['Assignment_1-checkpoint.ipynb', 'Assignment_2-checkpoint.ipynb', 'Assignment_3-checkpoint.ipynb', 'Assignment_4-checkpoint.ipynb', 'Assignment_5-checkpoint.ipynb', 'Assignment_6-checkpoint.ipynb', 'Assignment_7-checkpoint.ipynb', 'Assignment_8-checkpoint.ipynb', 'Assignment_9-checkpoint.ipynb', 'Assignment_10-checkpoint.ipynb']\n",
      "\n",
      "Folder Name ➞ D:\\FSDS_Assignments\\ipynbs\n",
      "\n",
      "Files ➞ ['Assignment_1.ipynb', 'Assignment_2.ipynb', 'Assignment_3.ipynb', 'Assignment_4.ipynb', 'Assignment_5.ipynb', 'Assignment_6.ipynb', 'Assignment_7.ipynb', 'Assignment_8.ipynb', 'Assignment_9.ipynb', 'Assignment_10.ipynb', 'Assignment_1-checkpoint.ipynb', 'Assignment_2-checkpoint.ipynb', 'Assignment_3-checkpoint.ipynb', 'Assignment_4-checkpoint.ipynb', 'Assignment_5-checkpoint.ipynb', 'Assignment_6-checkpoint.ipynb', 'Assignment_7-checkpoint.ipynb', 'Assignment_8-checkpoint.ipynb', 'Assignment_9-checkpoint.ipynb', 'Assignment_10-checkpoint.ipynb']\n",
      "\n",
      "Files copied successfully from D:\\FSDS_Assignments to D:\\FSDS_Assignments\\ipynbs\n"
     ]
    }
   ],
   "source": [
    "import os\n",
    "import shutil\n",
    "\n",
    "def sc(source,destination,extensions):\n",
    "    source = os.path.abspath(source)\n",
    "    destination = os.path.abspath(destination)\n",
    "    try:\n",
    "        for foldername, subfolder, filenames in os.walk(source):\n",
    "            print(f'Folder Name ➞ {foldername}',end='\\n\\n')\n",
    "            print(f'Files ➞ {filenames}',end='\\n\\n')\n",
    "            for filename in filenames:\n",
    "                fileName,extension = os.path.splitext(filename)\n",
    "                if extension in extensions:\n",
    "                    targetFile = foldername+os.path.sep+fileName+extension\n",
    "                    shutil.copy(targetFile, destination)\n",
    "    \n",
    "    except shutil.SameFileError:\n",
    "        pass\n",
    "    print(f'Files copied successfully from {source} to {destination}')\n",
    "extensions = ['.ipynb']\n",
    "source = 'D:/FSDS_Assignments'\n",
    "destination = 'D:/FSDS_Assignments/ipynbs'\n",
    "sc(source, destination, extensions)\n"
   ]
  }
 ],
 "metadata": {
  "kernelspec": {
   "display_name": "Python 3 (ipykernel)",
   "language": "python",
   "name": "python3"
  },
  "language_info": {
   "codemirror_mode": {
    "name": "ipython",
    "version": 3
   },
   "file_extension": ".py",
   "mimetype": "text/x-python",
   "name": "python",
   "nbconvert_exporter": "python",
   "pygments_lexer": "ipython3",
   "version": "3.9.10"
  },
  "varInspector": {
   "cols": {
    "lenName": 16,
    "lenType": 16,
    "lenVar": 40
   },
   "kernels_config": {
    "python": {
     "delete_cmd_postfix": "",
     "delete_cmd_prefix": "del ",
     "library": "var_list.py",
     "varRefreshCmd": "print(var_dic_list())"
    },
    "r": {
     "delete_cmd_postfix": ") ",
     "delete_cmd_prefix": "rm(",
     "library": "var_list.r",
     "varRefreshCmd": "cat(var_dic_list()) "
    }
   },
   "types_to_exclude": [
    "module",
    "function",
    "builtin_function_or_method",
    "instance",
    "_Feature"
   ],
   "window_display": false
  }
 },
 "nbformat": 4,
 "nbformat_minor": 5
}
