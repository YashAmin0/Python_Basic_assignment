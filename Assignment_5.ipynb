{
 "cells": [
  {
   "cell_type": "markdown",
   "id": "95886f6f",
   "metadata": {},
   "source": [
    "-> 1. What does an empty dictionary's code look like?\n",
    "\n",
    "Ans1\n",
    "\n",
    "The empty dictionary's code look like {}.\n",
    "\n",
    "-----"
   ]
  },
  {
   "cell_type": "markdown",
   "id": "bbbb07b2",
   "metadata": {},
   "source": [
    "-> 2. What is the value of a dictionary value with the key 'foo' and the value 42?\n",
    "\n",
    "Ans2\n",
    "\n",
    "{'foo' : 42}\n",
    "\n",
    "-----"
   ]
  },
  {
   "cell_type": "markdown",
   "id": "234f85a4",
   "metadata": {},
   "source": [
    "-> 3. What is the most significant distinction between a dictionary and a list?\n",
    "\n",
    "Ans3\n",
    "\n",
    "Dictionary contains key and value pairs, on the other hand list contains collection of indexes.\n",
    "\n",
    "----"
   ]
  },
  {
   "cell_type": "markdown",
   "id": "79a42693",
   "metadata": {},
   "source": [
    "->4.What happens if you try to access spam['foo'] if spam is {'bar': 100}?\n",
    "\n",
    "Ans4 \n",
    "\n",
    "It throws error as 'foo' key not presented in spam.\n",
    "\n",
    "----"
   ]
  },
  {
   "cell_type": "markdown",
   "id": "dc107c9c",
   "metadata": {},
   "source": [
    "->5. If a dictionary is stored in spam, what is the difference between the expressions 'cat' in spam and 'cat' in spam.keys()?\n",
    "\n",
    "Ans5\n",
    "\n",
    "There is no difference. The in operator checks whether a value exists as a key in the dictionary.\n",
    "\n",
    "----"
   ]
  },
  {
   "cell_type": "markdown",
   "id": "cfbc68e1",
   "metadata": {},
   "source": [
    "-> 6.If a dictionary is stored in spam, what is the difference between the expressions 'cat' in spam and 'cat' in spam.values()?\n",
    "\n",
    "Ans6 \n",
    "\n",
    "'cat' in spam checks whether there is a 'cat' key in the dictionary, while 'cat' in spam.values() checks whether there is a value 'cat' for one of the keys in spam.\n",
    "\n",
    "------"
   ]
  },
  {
   "cell_type": "markdown",
   "id": "496a571a",
   "metadata": {},
   "source": [
    "-> 7.What is a shortcut for the following code?\n",
    "\n",
    "if 'color' not in spam:                  \n",
    "spam['color'] = 'black'\n",
    "\n",
    "\n",
    "Ans7\n",
    "\n",
    "spam.setdefault('color', 'black')\n",
    "\n",
    "----------"
   ]
  },
  {
   "cell_type": "markdown",
   "id": "2a80c274",
   "metadata": {},
   "source": [
    "-> 8.How do you \"pretty print\" dictionary values using which module and function?\n",
    "\n",
    "Ans8\n",
    "\n",
    "pprint is a Python module that provides the capability to pretty print Python data types to be more readable.\n",
    "\n",
    "----"
   ]
  }
 ],
 "metadata": {
  "kernelspec": {
   "display_name": "Python 3 (ipykernel)",
   "language": "python",
   "name": "python3"
  },
  "language_info": {
   "codemirror_mode": {
    "name": "ipython",
    "version": 3
   },
   "file_extension": ".py",
   "mimetype": "text/x-python",
   "name": "python",
   "nbconvert_exporter": "python",
   "pygments_lexer": "ipython3",
   "version": "3.9.10"
  },
  "varInspector": {
   "cols": {
    "lenName": 16,
    "lenType": 16,
    "lenVar": 40
   },
   "kernels_config": {
    "python": {
     "delete_cmd_postfix": "",
     "delete_cmd_prefix": "del ",
     "library": "var_list.py",
     "varRefreshCmd": "print(var_dic_list())"
    },
    "r": {
     "delete_cmd_postfix": ") ",
     "delete_cmd_prefix": "rm(",
     "library": "var_list.r",
     "varRefreshCmd": "cat(var_dic_list()) "
    }
   },
   "types_to_exclude": [
    "module",
    "function",
    "builtin_function_or_method",
    "instance",
    "_Feature"
   ],
   "window_display": false
  }
 },
 "nbformat": 4,
 "nbformat_minor": 5
}
