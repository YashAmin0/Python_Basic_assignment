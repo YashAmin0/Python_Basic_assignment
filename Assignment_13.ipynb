{
 "cells": [
  {
   "cell_type": "markdown",
   "id": "40d78e2a",
   "metadata": {},
   "source": [
    "-> 1. What advantages do Excel spreadsheets have over CSV spreadsheets?\n",
    "\n",
    "Ans1\n",
    "\n",
    "Excel spreadsheets have over CSV spreadsheets are:- \n",
    "\n",
    "\n",
    "-> have types for their values—everything is a string\n",
    "\n",
    "-> have settings for font size or color\n",
    "\n",
    "-> specify cell widths and heights\n",
    "\n",
    "-> have images or charts embedded in them\n",
    "\n",
    "---\n",
    "-> 2.What do you pass to csv.reader() and csv.writer() to create reader and writer objects?\n",
    "\n",
    "Ans2\n",
    "\n",
    "csv.reader(csvfile, dialect='excel')\n",
    "\n",
    "csv.writer(csvfile, dialect='excel')\n",
    "\n",
    "----\n",
    "-> 3. What modes do File objects for reader and writer objects need to be opened in?\n",
    "\n",
    "Ans3\n",
    "\n",
    "reader object :- 'r'  and writer object :- 'w' \n",
    "\n",
    "---\n",
    "-> 4. What method takes a list argument and writes it to a CSV file?\n",
    "\n",
    "Ans4\n",
    "\n",
    "writerow(): This method writes a single row at a time.                 \n",
    "\n",
    "writerows(): This method is used to write multiple rows at a time. \n",
    "\n",
    "----\n",
    "-> 5. What do the keyword arguments delimiter and line terminator do?\n",
    "\n",
    "Ans5\n",
    "\n",
    "Delimeter='\\t' and lineterminator='\\n\\n' changes the character between cells to a tab and the character between rows to two newlines.\n",
    "\n",
    "---\n",
    "-> 6. What function takes a string of JSON data and returns a Python data structure?\n",
    "\n",
    "Ans6 \n",
    "\n",
    "We can use dumps() function takes a string of JSON data and returns a Python data structure.\n",
    "\n",
    "---\n",
    "-> 7. What function takes a Python data structure and returns a string of JSON data?\n",
    "\n",
    "Ans7\n",
    "\n",
    "We can use load() function takes a Python data structure and returns a string of JSON data."
   ]
  }
 ],
 "metadata": {
  "kernelspec": {
   "display_name": "Python 3 (ipykernel)",
   "language": "python",
   "name": "python3"
  },
  "language_info": {
   "codemirror_mode": {
    "name": "ipython",
    "version": 3
   },
   "file_extension": ".py",
   "mimetype": "text/x-python",
   "name": "python",
   "nbconvert_exporter": "python",
   "pygments_lexer": "ipython3",
   "version": "3.9.10"
  },
  "varInspector": {
   "cols": {
    "lenName": 16,
    "lenType": 16,
    "lenVar": 40
   },
   "kernels_config": {
    "python": {
     "delete_cmd_postfix": "",
     "delete_cmd_prefix": "del ",
     "library": "var_list.py",
     "varRefreshCmd": "print(var_dic_list())"
    },
    "r": {
     "delete_cmd_postfix": ") ",
     "delete_cmd_prefix": "rm(",
     "library": "var_list.r",
     "varRefreshCmd": "cat(var_dic_list()) "
    }
   },
   "types_to_exclude": [
    "module",
    "function",
    "builtin_function_or_method",
    "instance",
    "_Feature"
   ],
   "window_display": false
  }
 },
 "nbformat": 4,
 "nbformat_minor": 5
}
