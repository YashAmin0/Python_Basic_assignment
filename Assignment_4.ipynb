{
 "cells": [
  {
   "cell_type": "markdown",
   "id": "c09f4b56",
   "metadata": {},
   "source": [
    "-> 1. What exactly is []?\n",
    "\n",
    "Ans1\n",
    "\n",
    "It is squared brackets which is used to make list in python.\n",
    "\n",
    "----"
   ]
  },
  {
   "cell_type": "markdown",
   "id": "3cd5442e",
   "metadata": {},
   "source": [
    "-> 2. In a list of values stored in a variable called spam, how would you assign the value 'hello' as the third value? (Assume [2, 4, 6, 8, 10] are in spam.)\n",
    "\n",
    "Ans2\n",
    "\n"
   ]
  },
  {
   "cell_type": "code",
   "execution_count": 1,
   "id": "0759f4b3",
   "metadata": {},
   "outputs": [
    {
     "name": "stdout",
     "output_type": "stream",
     "text": [
      "[2, 4, 'hello', 6, 8, 10]\n"
     ]
    }
   ],
   "source": [
    "spam = [2,4,6,8,10]\n",
    "spam.insert(2,'hello')\n",
    "print(spam)"
   ]
  },
  {
   "cell_type": "markdown",
   "id": "e0c6ef2d",
   "metadata": {},
   "source": [
    "----"
   ]
  },
  {
   "cell_type": "markdown",
   "id": "19f6ada1",
   "metadata": {},
   "source": [
    "-> Let's pretend the spam includes the list ['a', 'b', 'c', 'd'] for the next three queries.\n",
    "\n",
    "->3. What is the value of spam[int(int('3' * 2) / 11)]?\n",
    "\n",
    "Ans3\n",
    "\n",
    "spam[3] = 'd'\n",
    "\n",
    "---\n",
    "->4. What is the value of spam[-1]?\n",
    "\n",
    "Ans4\n",
    "\n",
    "spam[-1] = 'd'\n",
    "\n",
    "---\n",
    "\n",
    "->5. What is the value of spam[:2]?\n",
    "\n",
    "Ans5 \n",
    "\n",
    "spam[:2] = ['a','b']\n",
    "\n",
    "---"
   ]
  },
  {
   "cell_type": "markdown",
   "id": "0b8cc771",
   "metadata": {},
   "source": [
    "->Let's pretend bacon has the list [3.14, 'cat,' 11, 'cat,' True] for the next three questions.\n",
    "\n",
    "->6. What is the value of bacon.index('cat')?\n",
    "\n",
    "Ans6\n",
    "\n",
    "bacon.index('cat') = 1\n",
    "\n",
    "----\n",
    "->7. How does bacon.append(99) change the look of the list value in bacon?\n",
    "\n",
    "Ans7 \n",
    "\n",
    "Before bacon.append(99):-           \n",
    "[3.14, 'cat,' 11, 'cat,' True]\n",
    "\n",
    "After bacon.append(99):-           \n",
    "[3.14, 'cat,' 11, 'cat,' True,99]\n",
    "\n",
    "----\n",
    "->8. How does bacon.remove('cat') change the look of the list in bacon?\n",
    "\n",
    "Ans8\n",
    "\n",
    "Before bacon.append(99):-           \n",
    "[3.14, 'cat,' 11, 'cat,' True,99]\n",
    "\n",
    "After bacon.append(99):-           \n",
    "[3.14, 11, 'cat,' True,99]\n",
    "\n",
    "----"
   ]
  },
  {
   "cell_type": "markdown",
   "id": "e8d3ec41",
   "metadata": {},
   "source": [
    "->9. What are the list concatenation and list replication operators?\n",
    "\n",
    "Ans9 \n",
    "\n",
    "The list concatenation is done with '+' operator and list replication is done with '*' operator.\n",
    "\n",
    "----"
   ]
  },
  {
   "cell_type": "markdown",
   "id": "7dfb30ae",
   "metadata": {},
   "source": [
    "->10. What is difference between the list methods append() and insert()?\n",
    "\n",
    "Ans10\n",
    "\n",
    "The append function is used to add the value at the end of the list while insert function is used to add value at any index and we also have to specify the index where we have to add the value.\n",
    "\n",
    "-------"
   ]
  },
  {
   "cell_type": "markdown",
   "id": "94b877d7",
   "metadata": {},
   "source": [
    "-> 11. What are the two methods for removing items from a list?\n",
    "\n",
    "Ans11\n",
    "\n",
    "There are two methods to remove the value from the list:- \n",
    "\n",
    "pop():- It is used to specific value if specified index is present or remove the last value from the list.\n",
    "\n",
    "list.pop(index) or list.pop()\n",
    "\n",
    "remove():-  It is used to specific value from the list.\n",
    "\n",
    "list.remove(value)\n",
    "\n",
    "----------"
   ]
  },
  {
   "cell_type": "markdown",
   "id": "60b81421",
   "metadata": {},
   "source": [
    "-> 12. Describe how list values and string values are identical.\n",
    "\n",
    "Ans12\n",
    "\n",
    "Lists are mutable but Strings are immutable. Elements of a list can be of different datatypes whereas a String only contains characters that are all of String type.\n",
    "\n",
    "---"
   ]
  },
  {
   "cell_type": "markdown",
   "id": "4f3884e2",
   "metadata": {},
   "source": [
    "-> 13. What's the difference between tuples and lists?\n",
    "\n",
    "Ans13\n",
    "\n",
    "List are mutable while tuples are immutable. Lists consume more memory, on the other hand tuples consumes less memory.\n",
    "\n",
    "-----"
   ]
  },
  {
   "cell_type": "markdown",
   "id": "e7349724",
   "metadata": {},
   "source": [
    "-> 14. How do you type a tuple value that only contains the integer 42?\n",
    "\n",
    "Ans14\n",
    "\n",
    "(42,)\n",
    "\n",
    "------"
   ]
  },
  {
   "cell_type": "markdown",
   "id": "34a2c293",
   "metadata": {},
   "source": [
    "-> 15. How do you get a list value's tuple form? How do you get a tuple value's list form?\n",
    "\n",
    "Ans15\n",
    "\n",
    "list to tuple :- tuple([1,2,3])\n",
    "\n",
    "tuple to list :- list((1,2,3))\n",
    "\n",
    "-------"
   ]
  },
  {
   "cell_type": "markdown",
   "id": "78685950",
   "metadata": {},
   "source": [
    "-> 16. Variables that \"contain\" list values are not necessarily lists themselves. Instead, what do they contain?\n",
    "\n",
    "Ans16\n",
    "\n",
    "references to list values\n",
    "\n",
    "---------"
   ]
  },
  {
   "cell_type": "markdown",
   "id": "67153a58",
   "metadata": {},
   "source": [
    "-> How do you distinguish between copy.copy() and copy.deepcopy()?\n",
    "\n",
    "Ans17\n",
    "\n",
    "The copy.copy() function will do a shallow copy of a list, while the copy.deepcopy() function will do a deep copy of a list. \n",
    "\n",
    "-----"
   ]
  }
 ],
 "metadata": {
  "kernelspec": {
   "display_name": "Python 3 (ipykernel)",
   "language": "python",
   "name": "python3"
  },
  "language_info": {
   "codemirror_mode": {
    "name": "ipython",
    "version": 3
   },
   "file_extension": ".py",
   "mimetype": "text/x-python",
   "name": "python",
   "nbconvert_exporter": "python",
   "pygments_lexer": "ipython3",
   "version": "3.9.10"
  },
  "varInspector": {
   "cols": {
    "lenName": 16,
    "lenType": 16,
    "lenVar": 40
   },
   "kernels_config": {
    "python": {
     "delete_cmd_postfix": "",
     "delete_cmd_prefix": "del ",
     "library": "var_list.py",
     "varRefreshCmd": "print(var_dic_list())"
    },
    "r": {
     "delete_cmd_postfix": ") ",
     "delete_cmd_prefix": "rm(",
     "library": "var_list.r",
     "varRefreshCmd": "cat(var_dic_list()) "
    }
   },
   "types_to_exclude": [
    "module",
    "function",
    "builtin_function_or_method",
    "instance",
    "_Feature"
   ],
   "window_display": false
  }
 },
 "nbformat": 4,
 "nbformat_minor": 5
}
