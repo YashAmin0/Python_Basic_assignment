{
 "cells": [
  {
   "cell_type": "markdown",
   "id": "6bde7036",
   "metadata": {},
   "source": [
    "->1. What is the name of the feature responsible for generating Regex objects?\n",
    "\n",
    "Ans1 \n",
    "\n",
    "The feature that is used to generate regex objects are re.compile().\n",
    "\n",
    "----\n",
    "\n",
    "-> 2. Why do raw strings often appear in Regex objects?\n",
    "\n",
    "Ans2\n",
    "\n",
    "Raw strings are used so that backslashes do not have to be escaped.\n",
    "\n",
    "---\n",
    "\n",
    "-> 3. What is the return value of the search() method?\n",
    "\n",
    "Ans3\n",
    "\n",
    "search() returns a match object or None otherwise. \n",
    "\n",
    "---\n",
    "\n",
    "->4. From a Match item, how do you get the actual strings that match the pattern?\n",
    "\n",
    "Ans4 \n",
    "\n"
   ]
  },
  {
   "cell_type": "code",
   "execution_count": 1,
   "id": "28c9fe96",
   "metadata": {},
   "outputs": [
    {
     "name": "stdout",
     "output_type": "stream",
     "text": [
      "Roll number found: 41\n"
     ]
    }
   ],
   "source": [
    "import re\n",
    "RollNumRegex = re.compile(r'\\d\\d')\n",
    "m = RollNumRegex.search('My roll number is 41.')\n",
    "print('Roll number found: ' + m.group())"
   ]
  },
  {
   "cell_type": "markdown",
   "id": "aa07bdee",
   "metadata": {},
   "source": [
    "->5. In the regex which created from the r'(\\d\\d\\d)-(\\d\\d\\d-\\d\\d\\d\\d)', what does group zero cover? Group 2? Group 1?\n",
    "\n",
    "Ans5\n",
    "\n",
    "Group 0 is the entire match, group 1 covers the first set of parentheses, and group 2 covers the second set of parentheses.\n",
    "\n",
    "----\n",
    "\n",
    "-> 6. In standard expression syntax, parentheses and intervals have distinct meanings. How can you tell a regex that you want it to fit real parentheses and periods?\n",
    "\n",
    "Ans6\n",
    "\n",
    "The \\. \\( and \\) escape characters in the raw string passed to re.compile() will match actual parenthesis characters.\n",
    "\n",
    "---\n",
    "\n",
    "-> 7. The findall() method returns a string list or a list of string tuples. What causes it to return one of the two options?\n",
    "\n",
    "Ans7 \n",
    "\n",
    "a list of strings is returned :- regex has no groups   \n",
    "a list of tuples of strings is returned :- regex has groups        \n",
    "\n",
    "----\n",
    "\n",
    "-> 8. In standard expressions, what does the | character mean?\n",
    "\n",
    "Ans8\n",
    "\n",
    "In standard expressions, the | character means or operator.\n",
    "\n",
    "-----\n",
    "-> 9. In regular expressions, what does the character stand for?\n",
    "\n",
    "Ans9 \n",
    "\n",
    "In regular expressions, the ? character stand for Match zero or one of the group preceding this question mark.\n",
    "\n",
    "---\n",
    "-> 10.In regular expressions, what is the difference between the + and * characters?\n",
    "\n",
    "Ans10\n",
    "\n",
    "In regular expression '*' means matches zero or more occurrences of the regular expression, on the other hand'+' means one or more occurrences of the regular expression.\n",
    "\n",
    "---\n",
    "\n",
    "-> 11. What is the difference between {4} and {4,5} in regular expression?\n",
    "\n",
    "Ans11\n",
    "\n",
    "{4} means that its preceeding group should repeat 4 times, where as {4,5} means that its preceeding group should repeat mininum 4 times and maximum 5 times inclusively\n",
    "\n",
    "---\n",
    "\n",
    "-> 12. What do you mean by the \\d, \\w, and \\s shorthand character classes signify in regular expressions?\n",
    "\n",
    "Ans12\n",
    "\n",
    "\\d :- match a single digit\n",
    "\\w :- match a single word\n",
    "\\s :- match a whitespace character\n",
    "\n",
    "---\n",
    "\n",
    "-> 13. What do means by \\D, \\W, and \\S shorthand character classes signify in regular expressions?\n",
    "\n",
    "Ans13\n",
    "\n",
    "\\D :- match a non-digit character\n",
    "\\W :- match a non-word character\n",
    "\\S :- match a non-whitespace character\n",
    "\n",
    "---\n",
    "\n",
    "-> 14. What is the difference between .*? and .*?\n",
    "\n",
    "Ans14\n",
    "\n",
    ".* :- returns the longest string that meets the condition.\n",
    "\n",
    ".*? :- returns the shortest string that meets the condition.\n",
    "\n",
    "---\n",
    "\n",
    "-> 15. What is the syntax for matching both numbers and lowercase letters with a character class?\n",
    "\n",
    "Ans15\n",
    "\n",
    "syntax for matching both numbers and lowercase letters with a character class :- [a-z0-9]"
   ]
  },
  {
   "cell_type": "code",
   "execution_count": 2,
   "id": "3fc8ef1a",
   "metadata": {},
   "outputs": [
    {
     "name": "stdout",
     "output_type": "stream",
     "text": [
      "<re.Match object; span=(0, 7), match='yash024'>\n"
     ]
    }
   ],
   "source": [
    "patterns = '^[a-z0-9]*$'\n",
    "print(re.search(patterns, 'yash024'))"
   ]
  },
  {
   "cell_type": "markdown",
   "id": "83335f8f",
   "metadata": {},
   "source": [
    "-> 16. What is the procedure for making a normal expression in regax case insensitive?\n",
    "\n",
    "Ans16\n",
    "\n",
    "Use re.IGNORECASE for making a normal expression in regex case insensitive.\n",
    "\n",
    "---\n",
    "\n",
    "-> 17. What does the . character normally match? What does it match if re.DOTALL is passed as 2nd argument in re.compile()?\n",
    "\n",
    "Ans17\n",
    "\n",
    "'.' matches everything in input except newline character. If re. DOTALL is passed as the second argument to re. compile(), then the dot will also match newline characters.\n",
    "\n",
    "---\n",
    "\n",
    "-> 18. If numReg = re.compile(r'\\d+'), what will numRegex.sub('X', '11 drummers, 10 pipers, five rings, 4 hen') return?\n",
    "\n",
    "Ans18 \n",
    "\n"
   ]
  },
  {
   "cell_type": "code",
   "execution_count": 3,
   "id": "c9b3e93a",
   "metadata": {},
   "outputs": [
    {
     "data": {
      "text/plain": [
       "'X drummers, X pipers, five rings, X hen'"
      ]
     },
     "execution_count": 3,
     "metadata": {},
     "output_type": "execute_result"
    }
   ],
   "source": [
    "numReg = re.compile(r'\\d+')\n",
    "numReg.sub('X', '11 drummers, 10 pipers, five rings, 4 hen')"
   ]
  },
  {
   "cell_type": "markdown",
   "id": "d5f45661",
   "metadata": {},
   "source": [
    "-> 19. What does passing re.VERBOSE as the 2nd argument to re.compile() allow to do?\n",
    "\n",
    "Ans19\n",
    "\n",
    "Passing re.VERBOSE as the 2nd argument to     re.compile() allows you to add whitespace and comments to the string passed to re.\n",
    "\n",
    "---\n",
    "\n",
    "-> 20. How would you write a regex that match a number with comma for every three digits? It must match the given following:\n",
    "'42'          \n",
    "'1,234'                 \n",
    "'6,368,745'                           \n",
    "but not the following:                        \n",
    "'12,34,567' (which has only two digits between the commas)                       \n",
    "'1234' (which lacks commas)                   \n",
    "\n",
    "Ans20\n"
   ]
  },
  {
   "cell_type": "code",
   "execution_count": 4,
   "id": "e0cf08a1",
   "metadata": {},
   "outputs": [
    {
     "name": "stdout",
     "output_type": "stream",
     "text": [
      "42 -> <re.Match object; span=(0, 2), match='42'>\n",
      "1,234 -> <re.Match object; span=(0, 5), match='1,234'>\n",
      "6,368,745 -> <re.Match object; span=(0, 9), match='6,368,745'>\n",
      "12,34,567 -> None\n",
      "1234 -> None\n"
     ]
    }
   ],
   "source": [
    "patterns = r'^\\d{1,3}(,\\d{3})*$'\n",
    "c = re.compile(patterns)\n",
    "li =  ['42','1,234','6,368,745','12,34,567','1234']\n",
    "for i in li:\n",
    "    print(i ,'->', c.search(i))"
   ]
  },
  {
   "cell_type": "markdown",
   "id": "bbd60ed1",
   "metadata": {},
   "source": [
    "-> 21. How would you write a regex that matches the full name of someone whose last name is Watanabe? You can assume that the first name that comes before it will always be one word that begins with a capital letter. The regex must match the following:                   \n",
    "'Haruto Watanabe'                             \n",
    "'Alice Watanabe'                            \n",
    "'RoboCop Watanabe'                               \n",
    "but not the following:              \n",
    "'haruto Watanabe' (where the first name is not capitalized)            \n",
    "'Mr. Watanabe' (where the preceding word has a nonletter character)           \n",
    "'Watanabe' (which has no first name)             \n",
    "'Haruto watanabe' (where Watanabe is not       capitalized)       \n",
    "\n",
    "Ans21\n"
   ]
  },
  {
   "cell_type": "code",
   "execution_count": 5,
   "id": "72c292a3",
   "metadata": {},
   "outputs": [
    {
     "name": "stdout",
     "output_type": "stream",
     "text": [
      "Haruto Watanabe -> <re.Match object; span=(0, 15), match='Haruto Watanabe'>\n",
      "Alice Watanabe -> <re.Match object; span=(0, 14), match='Alice Watanabe'>\n",
      "RoboCop Watanabe -> <re.Match object; span=(4, 16), match='Cop Watanabe'>\n",
      "haruto Watanabe -> None\n",
      "Mr. Watanabe -> None\n",
      "Watanabe -> None\n",
      "Haruto watanabe -> None\n"
     ]
    }
   ],
   "source": [
    "patterns = r'[A-Z]{1}[a-z]*\\sWatanabe'\n",
    "c = re.compile(patterns)\n",
    "li =  ['Haruto Watanabe','Alice Watanabe','RoboCop Watanabe','haruto Watanabe','Mr. Watanabe','Watanabe','Haruto watanabe']\n",
    "for i in li:\n",
    "    print(i ,'->', c.search(i))"
   ]
  },
  {
   "cell_type": "markdown",
   "id": "5dc35a92",
   "metadata": {},
   "source": [
    "-> 22. How would you write a regex that matches a sentence where the first word is either Alice, Bob, or Carol; the second word is either eats, pets, or throws; the third word is apples, cats, or baseballs; and the sentence ends with a period? This regex should be case-insensitive. It must match the following:            \n",
    "'Alice eats apples.'                 \n",
    "'Bob pets cats.'                    \n",
    "'Carol throws baseballs.'                     \n",
    "'Alice throws Apples.'                    \n",
    "'BOB EATS CATS.'                   \n",
    "but not the following:                    \n",
    "'RoboCop eats apples.'               \n",
    "'ALICE THROWS FOOTBALLS.'            \n",
    "'Carol eats 7 cats.'            "
   ]
  },
  {
   "cell_type": "code",
   "execution_count": 6,
   "id": "2e855942",
   "metadata": {},
   "outputs": [
    {
     "name": "stdout",
     "output_type": "stream",
     "text": [
      "Alice eats apples. -> <re.Match object; span=(0, 17), match='Alice eats apples'>\n",
      "Bob pets cats. -> <re.Match object; span=(0, 13), match='Bob pets cats'>\n",
      "Carol throws baseballs. -> <re.Match object; span=(0, 22), match='Carol throws baseballs'>\n",
      "Alice throws Apples. -> <re.Match object; span=(0, 19), match='Alice throws Apples'>\n",
      "BOB EATS CATS. -> <re.Match object; span=(0, 13), match='BOB EATS CATS'>\n",
      "RoboCop eats apples. -> None\n",
      "ALICE THROWS FOOTBALLS. -> None\n",
      "Carol eats 7 cats. -> None\n"
     ]
    }
   ],
   "source": [
    "patterns = r'(Alice|Bob|Carol|Alice|BOB)\\s(eats|pets|throws|throws|EATS)\\s(apples|cats|baseballs|Apples|CATS)'\n",
    "c = re.compile(patterns)\n",
    "li =  ['Alice eats apples.',                 \n",
    "'Bob pets cats.',                    \n",
    "'Carol throws baseballs.',                     \n",
    "'Alice throws Apples.' ,                   \n",
    "'BOB EATS CATS.',                                     \n",
    "'RoboCop eats apples.',               \n",
    "'ALICE THROWS FOOTBALLS.',            \n",
    "'Carol eats 7 cats.']\n",
    "for i in li:\n",
    "    print(i ,'->', c.search(i))"
   ]
  }
 ],
 "metadata": {
  "kernelspec": {
   "display_name": "Python 3 (ipykernel)",
   "language": "python",
   "name": "python3"
  },
  "language_info": {
   "codemirror_mode": {
    "name": "ipython",
    "version": 3
   },
   "file_extension": ".py",
   "mimetype": "text/x-python",
   "name": "python",
   "nbconvert_exporter": "python",
   "pygments_lexer": "ipython3",
   "version": "3.9.10"
  },
  "varInspector": {
   "cols": {
    "lenName": 16,
    "lenType": 16,
    "lenVar": 40
   },
   "kernels_config": {
    "python": {
     "delete_cmd_postfix": "",
     "delete_cmd_prefix": "del ",
     "library": "var_list.py",
     "varRefreshCmd": "print(var_dic_list())"
    },
    "r": {
     "delete_cmd_postfix": ") ",
     "delete_cmd_prefix": "rm(",
     "library": "var_list.r",
     "varRefreshCmd": "cat(var_dic_list()) "
    }
   },
   "types_to_exclude": [
    "module",
    "function",
    "builtin_function_or_method",
    "instance",
    "_Feature"
   ],
   "window_display": false
  }
 },
 "nbformat": 4,
 "nbformat_minor": 5
}
